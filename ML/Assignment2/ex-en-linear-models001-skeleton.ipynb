{
 "cells": [
  {
   "cell_type": "code",
   "execution_count": 4,
   "metadata": {},
   "outputs": [],
   "source": [
    "from IPython.display import IFrame"
   ]
  },
  {
   "cell_type": "markdown",
   "metadata": {},
   "source": [
    "# Skeletons and information to exercise sheet II"
   ]
  },
  {
   "cell_type": "code",
   "execution_count": 32,
   "metadata": {},
   "outputs": [
    {
     "name": "stderr",
     "output_type": "stream",
     "text": [
      "Matplotlib is building the font cache; this may take a moment.\n"
     ]
    }
   ],
   "source": [
    "import json\n",
    "import numpy as np\n",
    "import pandas as pd\n",
    "import random\n",
    "from tqdm import tqdm\n",
    "import matplotlib.pyplot as plt"
   ]
  },
  {
   "cell_type": "markdown",
   "metadata": {},
   "source": [
    "## a) Load the data\n",
    "\n",
    "This is where the data will be loaded into the session.\n",
    "Pandas has a lot of useful functions for that:"
   ]
  },
  {
   "cell_type": "code",
   "execution_count": 6,
   "metadata": {},
   "outputs": [
    {
     "data": {
      "text/plain": [
       "array([['mainly', 0, 0.1120954663, 104, 0.0032397408],\n",
       "       ['mainly', 0, 0.11626830760000001, 109, 0.0032406157000000003],\n",
       "       ['mainly', 0, 0.11417676360000001, 106, 0.0032670841],\n",
       "       ...,\n",
       "       ['not', 0, 0.0459284931, 50, 0.0018088634],\n",
       "       ['not', 0, 0.0051274659, 8, 0.0050933786],\n",
       "       ['not', 0, 0.027014026, 34, 0.00025926890000000003]], dtype=object)"
      ]
     },
     "execution_count": 6,
     "metadata": {},
     "output_type": "execute_result"
    }
   ],
   "source": [
    "df = pd.read_json('sell-vs-not_balanced_train_data_handout.json',orient='records[4,5,6,7,8,9]')\n",
    "#df_split = df.to_json(typ='frame')\n",
    "\n",
    "df.columns[4:10]\n",
    "sells = df.values[:,4]\n",
    "number_of_ads = df.values[:,5]\n",
    "linkration = df.values[:,6]\n",
    "numberOfListItems = df.values[:,7]\n",
    "FractionInput = df.values[:,8] \n",
    "input_ = df.values[:,9] \n",
    "\n",
    "new_def = df.values[:,4:9]\n",
    "new_def"
   ]
  },
  {
   "cell_type": "markdown",
   "metadata": {},
   "source": [
    "Now we extract the features and target variable from the dataframe. \n",
    "The containing features are\n",
    "\n",
    " - 'number_of_ads', \n",
    " - 'linkration', \n",
    " - 'numberOfListItems', \n",
    " - 'FractionInput', \n",
    " - 'input'\n",
    " \n",
    "and the target variable \"sell\". \n",
    "\n",
    "We consider the example as positive example if it falls into the category \"mainly\" and negative otherwise:"
   ]
  },
  {
   "cell_type": "code",
   "execution_count": 7,
   "metadata": {
    "scrolled": false
   },
   "outputs": [],
   "source": [
    "#for example, row in enumerate(new_def[:,0]):    \n",
    "#    if example == 'mainly':\n",
    "#        positive.append('positive', new_def[row,:])\n",
    "#    else:\n",
    "#        negative.append('negative', new_def[row,:])\n"
   ]
  },
  {
   "cell_type": "markdown",
   "metadata": {},
   "source": [
    "## b) Feature scaling\n",
    "\n",
    "\n",
    "The extracted features can vary vastly in range and distribution. This can be difficult for the algorithm to handle. We define a function that rescale the features into a common range.\n",
    "The video below has some insights on that:"
   ]
  },
  {
   "cell_type": "code",
   "execution_count": 8,
   "metadata": {},
   "outputs": [
    {
     "data": {
      "text/html": [
       "\n",
       "        <iframe\n",
       "            width=\"640\"\n",
       "            height=\"380\"\n",
       "            src=\"https://www.youtube.com/embed/r5E2X1JdHAU\"\n",
       "            frameborder=\"0\"\n",
       "            allowfullscreen\n",
       "        ></iframe>\n",
       "        "
      ],
      "text/plain": [
       "<IPython.lib.display.IFrame at 0x7f86dc3403a0>"
      ]
     },
     "execution_count": 8,
     "metadata": {},
     "output_type": "execute_result"
    }
   ],
   "source": [
    "IFrame(\"https://www.youtube.com/embed/r5E2X1JdHAU\", 640, 380)"
   ]
  },
  {
   "cell_type": "code",
   "execution_count": 15,
   "metadata": {},
   "outputs": [],
   "source": [
    "def scaling_function(x: np.array) -> np.array:\n",
    "    #maybe change array to float array\n",
    "    max_1 = np.amax(x)\n",
    "    for i in range(len(x)):\n",
    "        x[i] = x[i] / max_1\n",
    "    return x"
   ]
  },
  {
   "cell_type": "markdown",
   "metadata": {},
   "source": [
    "## c) Implement an evaluation metric \n",
    " \n",
    "To keep track of the performance of our model, we need some kind of evaluation metric (for example accuracy or true missclassification error). During training we can check periodically, if the effectiveness of our model improves."
   ]
  },
  {
   "cell_type": "code",
   "execution_count": 47,
   "metadata": {},
   "outputs": [],
   "source": [
    "def evaluate(truth: np.array, prediction: np.array) -> float:\n",
    "    if len(truth) == len(prediction):\n",
    "        unequal=0\n",
    "        for i in range(len(truth)):\n",
    "            if truth[i] != prediction[i]:\n",
    "                unequal += 1                \n",
    "        mis_class_rate = unequal / len(truth)\n",
    "        #print(\"misclassification rate is: \",mis_class_rate )\n",
    "    #else:\n",
    "        #print(\"Arrays are of length: \",len(truth),\" and \",len(prediction),\". They have to be the same size!\")\n",
    "    return mis_class_rate\n",
    "\n",
    "test_array = np.array([1,2,3,4,5],dtype=np.float32)\n",
    "test_array = scaling_function(test_array)\n",
    "test_array\n",
    "\n",
    "truth_array = ([1,1,1,1,1,1,1,1])\n",
    "prediction_array = ([-1,-1,-1,-1,1,1,1,1])\n",
    "error = evaluate(truth_array, prediction_array)"
   ]
  },
  {
   "cell_type": "markdown",
   "metadata": {},
   "source": [
    "## c) Implement a   linear Classifier\n",
    "\n",
    "Now we want to implement a classifier. The hypothesis for the linear model is:\n",
    "\n",
    "$$ y(\\mathbf{x}) = \\mathbf{w}^T\\mathbf{x} $$\n",
    "\n",
    "This hypothesis' values range from $\\text{-}\\infty$ to $\\infty$ (in theory). We predict a class by using the sign of the output.\n",
    "\n",
    "$$ \\tilde{y}(\\mathbf{x}) = \\operatorname{sgn}(y(\\mathbf{x})) $$"
   ]
  },
  {
   "cell_type": "markdown",
   "metadata": {},
   "source": [
    "Implementing the RSS cost function and the LMS algorithm for regression and estimation of weights."
   ]
  },
  {
   "cell_type": "code",
   "execution_count": 38,
   "metadata": {},
   "outputs": [
    {
     "name": "stdout",
     "output_type": "stream",
     "text": [
      "misclassification rate is:  1.0\n",
      "0.3739580161352932\n"
     ]
    },
    {
     "data": {
      "image/png": "[encoded data removed]",
      "text/plain": [
       "<Figure size 432x288 with 1 Axes>"
      ]
     },
     "metadata": {
      "needs_background": "light"
     },
     "output_type": "display_data"
    },
    {
     "data": {
      "text/plain": [
       "array([ 0.66931456,  0.59639059,  0.2144184 ,  0.37091808,  0.58667826,\n",
       "       -0.16587044,  0.88250385,  1.61152107,  0.98095059])"
      ]
     },
     "execution_count": 38,
     "metadata": {},
     "output_type": "execute_result"
    }
   ],
   "source": [
    "def RSS(c,y) -> float:\n",
    "    \"\"\"Residual Sum of Squares\"\"\"\n",
    "    result = 0\n",
    "    for i in range(0,len(c)-1):\n",
    "        result = pow(c[i]-y[i],2)\n",
    "    return result\n",
    "\n",
    "def LMS(x, c_x, learning_rate):\n",
    "    \"\"\"least mean square method\"\"\"\n",
    "    #choose random pair from D\n",
    "    w = np.random.rand(len(x))\n",
    "    w_0 = 1 # random\n",
    "    y = w\n",
    "    errors = np.zeros(0)\n",
    "    ctr = 0\n",
    "    while True:\n",
    "        ctr += 1\n",
    "        rand_idx = random.randint(0,len(c_x)-1)\n",
    "        for i in range(0,len(y)-1):\n",
    "            y[i] = w[i]*x[i]\n",
    "        delta = c_x[rand_idx] - y[rand_idx]\n",
    "        delta_w = learning_rate * delta * x[rand_idx]\n",
    "        w[rand_idx] = w[rand_idx] + delta_w\n",
    "        if (RSS(c_x,y) <= 0.4):\n",
    "            print(RSS(c_x,y))\n",
    "            break\n",
    "            #add w0 to front of array\n",
    "        error = evaluate(c_x,y)#\n",
    "        errors = np.append(errors,error)\n",
    "\n",
    "    plt.plot(errors)\n",
    "    plt.ylabel('Errors over iteration')\n",
    "    plt.show()\n",
    "    return w\n",
    "\n",
    "x = np.array([1,-1,1,1,1,-1,1,-1,1])\n",
    "cx = np.array([1,1,1,1,1,1,1,1,1])\n",
    "weights = LMS(x,cx,1)\n",
    "weights"
   ]
  },
  {
   "cell_type": "markdown",
   "metadata": {},
   "source": [
    "## e) Logistic Regression\n",
    "\n",
    "Now onto the more complex logistic regression.\n",
    "The logistic regression's hypothesis is:\n",
    "$$ \\large y(\\mathbf{x}) = \\frac{1}{1+\\exp(-\\mathbf{w}^T\\mathbf{x})}$$\n",
    "This function has a range of values from 0 to 1 and can be interpreted as a probility of seeing the label $c(\\mathbf{x})$ given the input $y(\\mathbf{x})\\hat{=} p(c(\\mathbf{x})=1|\\mathbf{x};w)$. \n",
    "Predictions can be made  by applying a threshold. For example if \n",
    "$$\\tilde{y}(\\mathbf{x}_i) = \\begin{cases} 1 &\\text{if } p(c(\\mathbf{x}_i=1|\\mathbf{x}_i;w) > 0.5\\\\ 0 & \\text{otherwise} \\end{cases}$$. \n",
    "\n",
    "This is analogous to the prediction method for the linear regression, which is basically the threshold 0.\n",
    "\n",
    "\n",
    "Now keep in mind that the logistic regression is in fact very similar to the linear regression algorithm:"
   ]
  },
  {
   "cell_type": "code",
   "execution_count": 39,
   "metadata": {},
   "outputs": [
    {
     "data": {
      "text/html": [
       "\n",
       "        <iframe\n",
       "            width=\"400\"\n",
       "            height=\"300\"\n",
       "            src=\"https://webis.de/downloads/lecturenotes/machine-learning/unit-en-logistic-regression.pdf#algorithm-batch-gradient-descent-logistic-loss\"\n",
       "            frameborder=\"0\"\n",
       "            allowfullscreen\n",
       "        ></iframe>\n",
       "        "
      ],
      "text/plain": [
       "<IPython.lib.display.IFrame at 0x7f86c4b10460>"
      ]
     },
     "execution_count": 39,
     "metadata": {},
     "output_type": "execute_result"
    }
   ],
   "source": [
    "IFrame(\"https://webis.de/downloads/lecturenotes/machine-learning/unit-en-logistic-regression.pdf#algorithm-batch-gradient-descent-logistic-loss\", 400, 300)"
   ]
  },
  {
   "cell_type": "markdown",
   "metadata": {},
   "source": [
    "**Note**: One key difference is, since the logistic regression is meant to model a probability distribution the value range of the output is to be [0,1], and so the values of y have to be 0 and 1 (in contrast to the -1 and 1 of the linear regression above)."
   ]
  },
  {
   "cell_type": "code",
   "execution_count": 48,
   "metadata": {},
   "outputs": [
    {
     "name": "stdout",
     "output_type": "stream",
     "text": [
      "0.0006897334474813628\n"
     ]
    },
    {
     "data": {
      "image/png": "[encoded data removed]",
      "text/plain": [
       "<Figure size 432x288 with 1 Axes>"
      ]
     },
     "metadata": {
      "needs_background": "light"
     },
     "output_type": "display_data"
    },
    {
     "data": {
      "text/plain": [
       "array([0.77502803, 0.40616183, 0.54887105, 0.63637462, 0.01790766,\n",
       "       0.47110397, 0.0109221 , 1.02626278, 0.18141514])"
      ]
     },
     "execution_count": 48,
     "metadata": {},
     "output_type": "execute_result"
    }
   ],
   "source": [
    "def BGD(x, c_x, learning_rate):\n",
    "    \"\"\"least mean square method\"\"\"\n",
    "    #choose random pair from D\n",
    "    w = np.random.rand(len(x))\n",
    "    w_0 = 1 # random\n",
    "    t = 0\n",
    "    y = w\n",
    "    errors = np.zeros(0)\n",
    "    while True:\n",
    "        t += 1\n",
    "        delta_w = 0\n",
    "        for i in range(0,len(x)-1):\n",
    "            y[i] = w[i]*x[i]\n",
    "            delta = c_x[i] - y[i]\n",
    "            delta_w = learning_rate * delta * x[i]\n",
    "        w[i] = w[i] + delta_w\n",
    "        if (RSS(c_x,y) <= 0.4 or t>100):\n",
    "            print(RSS(c_x,y))\n",
    "            break\n",
    "            #add w0 to front of array\n",
    "        error = evaluate(c_x,y)\n",
    "        errors = np.append(errors,error)\n",
    "\n",
    "    plt.plot(errors)\n",
    "    plt.ylabel('Errors over iteration')\n",
    "    plt.show()\n",
    "    return w\n",
    "\n",
    "x = np.array([1,-1,1,1,1,-1,1,-1,1])\n",
    "cx = np.array([1,1,1,1,1,1,1,1,1])\n",
    "weights = BGD(x,cx,1)\n",
    "weights"
   ]
  },
  {
   "cell_type": "markdown",
   "metadata": {},
   "source": [
    "## f) Evaluation\n",
    "\n",
    "To find out which of the models is better suited to fit the data and especially to predict on new and unseen data, we have to make a somewhat fair comparison.\n",
    "\n",
    "Consider n-fold cross validation: For that we split our data into 5 batches, then estimate our parameters on 4 of the splits and testing on the one left out. We repeat this process for every split and estimate average performance.\n",
    "\n",
    "We provide you with a batching function: "
   ]
  },
  {
   "cell_type": "code",
   "execution_count": null,
   "metadata": {},
   "outputs": [],
   "source": [
    "def return_batch_indices(n, k=5):\n",
    "    \"\"\"This function takes a range n and a number of splits k and returns k arrays of n/k integers. \n",
    "    You can use these to index an array with n elements.\"\"\"\n",
    "    assert k < n, \"Fewer samples than splits is not allowed\"\n",
    "    indices = np.array(range(n))\n",
    "    np.random.shuffle(indices)\n",
    "    return np.array_split(indices, k)"
   ]
  },
  {
   "cell_type": "markdown",
   "metadata": {},
   "source": [
    "useful for extracting the same rows out of multiple arrays:\n",
    "```python\n",
    "indices = return_batch_indices(x.shape[0], 5)\n",
    "x[indices[0]], y[indices[0]]\n",
    "```\n",
    "will extract the same rows from x and y."
   ]
  },
  {
   "cell_type": "markdown",
   "metadata": {},
   "source": [
    "Using this we can implement a crossvalidation function and evaluate our algorithms:"
   ]
  },
  {
   "cell_type": "code",
   "execution_count": null,
   "metadata": {},
   "outputs": [],
   "source": []
  },
  {
   "cell_type": "markdown",
   "metadata": {},
   "source": [
    "# Bonus \n",
    "\n",
    "Predicting on the test data set by applying what we have learned. Chose a hypothesis, estimate the weights and make predictions on the test set:"
   ]
  },
  {
   "cell_type": "code",
   "execution_count": null,
   "metadata": {},
   "outputs": [],
   "source": []
  },
  {
   "cell_type": "markdown",
   "metadata": {},
   "source": [
    "Write the data to file"
   ]
  },
  {
   "cell_type": "code",
   "execution_count": null,
   "metadata": {},
   "outputs": [],
   "source": [
    "test_data.to_json(\"test_data_prediction_XXX.json\")"
   ]
  },
  {
   "cell_type": "code",
   "execution_count": null,
   "metadata": {},
   "outputs": [],
   "source": []
  }
 ],
 "metadata": {
  "kernelspec": {
   "display_name": "Python 3",
   "language": "python",
   "name": "python3"
  },
  "language_info": {
   "codemirror_mode": {
    "name": "ipython",
    "version": 3
   },
   "file_extension": ".py",
   "mimetype": "text/x-python",
   "name": "python",
   "nbconvert_exporter": "python",
   "pygments_lexer": "ipython3",
   "version": "3.8.6"
  }
 },
 "nbformat": 4,
 "nbformat_minor": 4
}
